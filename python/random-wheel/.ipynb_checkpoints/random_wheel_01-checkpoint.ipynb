{
 "metadata": {
  "name": ""
 },
 "nbformat": 3,
 "nbformat_minor": 0,
 "worksheets": [
  {
   "cells": [
    {
     "cell_type": "markdown",
     "metadata": {},
     "source": [
      "# Sorteador de chaves do Euromilh\u00f5es\n",
      "\n",
      "Baseado numa **roullete wheel** em que a fitness dos n\u00fameros \u00e9 dado pelo n\u00famero de sorteios em que o n\u00famero n\u00e3o aparece."
     ]
    },
    {
     "cell_type": "code",
     "collapsed": false,
     "input": [
      "import sys\n",
      "import os\n",
      "\n",
      "def get_url():\n",
      "    url = \"https://www.jogossantacasa.pt/web/SCEstatisticas/euromilhoes\"\n",
      "    import requests, re\n",
      "    a=re.compile(\"<li>([0-9]{1,2})</li><li>[0-9]+</li><li>[0-9,]+</li><li>[0-9]+/[0-9]{4}</li><li>[0-9]+/[0-9]+/[0-9]{4}</li><li>([0-9]{1,2})</li>\")\n",
      "    r=requests.get(url)\n",
      "    al=a.findall(r.text)\n",
      "    numbers=[]\n",
      "    stars=[]\n",
      "    for a in range(50):\n",
      "        numbers.append(al[a][0]+\" \"+al[a][1])\n",
      "    for a in range(50,61):\n",
      "        stars.append(al[a][0]+\" \"+al[a][1])\n",
      "    return {'numbers': numbers,\n",
      "            'stars':stars}\n",
      "            \n",
      "\n",
      "def get_data(fich):\n",
      "    infile = open(fich, \"r\")\n",
      "    data = infile.readlines()\n",
      "    infile.close()\n",
      "    return data\n",
      "\n",
      "\n",
      "def get_random_wheel(data, num):\n",
      "    population = []\n",
      "    for linha in data:\n",
      "        l=linha.strip().split()\n",
      "        population.extend([int(l[0])] * int(l[1]))\n",
      "    out = []\n",
      "    for k in range(num):\n",
      "        o = random.choice(population)\n",
      "        while o in out:\n",
      "            o = random.choice(population)\n",
      "        out.append(o)\n",
      "    out.sort()\n",
      "    return out\n",
      "\n",
      "def get_chave(data):\n",
      "    num = get_random_wheel(data['numbers'], 5)\n",
      "    st = get_random_wheel(data['stars'], 2)\n",
      "    wks = 0;\n",
      "    for el in num:\n",
      "        wk = data['numbers'][el-1].strip().split()\n",
      "        wks+=int(int(wk[1]))\n",
      "    for el in st:\n",
      "        wk = data['stars'][el-1].strip().split()\n",
      "        wks+=int(int(wk[1]))\n",
      "    return {'numbers':sorted(num), 'stars':sorted(st), 'wks':wks}\n",
      "    "
     ],
     "language": "python",
     "metadata": {},
     "outputs": [],
     "prompt_number": 1
    },
    {
     "cell_type": "code",
     "collapsed": false,
     "input": [
      "data = get_url()\n"
     ],
     "language": "python",
     "metadata": {},
     "outputs": [],
     "prompt_number": 2
    },
    {
     "cell_type": "code",
     "collapsed": false,
     "input": [
      "for a in range(10):\n",
      "    print get_chave(data)"
     ],
     "language": "python",
     "metadata": {},
     "outputs": [
      {
       "output_type": "stream",
       "stream": "stdout",
       "text": [
        "{'wks': 75, 'numbers': [7, 8, 27, 29, 48], 'stars': [5, 9]}\n",
        "{'wks': 105, 'numbers': [7, 9, 12, 22, 45], 'stars': [3, 7]}\n",
        "{'wks': 114, 'numbers': [7, 8, 9, 15, 48], 'stars': [3, 4]}\n",
        "{'wks': 118, 'numbers': [6, 11, 14, 18, 50], 'stars': [3, 11]}\n",
        "{'wks': 116, 'numbers': [9, 24, 33, 34, 45], 'stars': [3, 5]}\n",
        "{'wks': 53, 'numbers': [3, 16, 17, 26, 47], 'stars': [3, 9]}\n",
        "{'wks': 133, 'numbers': [7, 9, 11, 15, 24], 'stars': [9, 11]}\n",
        "{'wks': 103, 'numbers': [14, 18, 30, 45, 47], 'stars': [3, 11]}\n",
        "{'wks': 120, 'numbers': [7, 9, 18, 44, 45], 'stars': [3, 9]}\n",
        "{'wks': 92, 'numbers': [9, 18, 26, 31, 39], 'stars': [10, 11]}\n"
       ]
      }
     ],
     "prompt_number": 3
    }
   ],
   "metadata": {}
  }
 ]
}